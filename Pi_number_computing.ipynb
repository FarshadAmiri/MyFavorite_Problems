{
  "nbformat": 4,
  "nbformat_minor": 0,
  "metadata": {
    "colab": {
      "name": "Pi_number_computing.ipynb",
      "provenance": [],
      "authorship_tag": "ABX9TyN2JuQodELkM0+Uftdy/dSN",
      "include_colab_link": true
    },
    "kernelspec": {
      "name": "python3",
      "display_name": "Python 3"
    },
    "language_info": {
      "name": "python"
    }
  },
  "cells": [
    {
      "cell_type": "markdown",
      "metadata": {
        "id": "view-in-github",
        "colab_type": "text"
      },
      "source": [
        "<a href=\"https://colab.research.google.com/github/FarshadAmiri/Math_and_Reasoning/blob/main/Pi_number_computing.ipynb\" target=\"_parent\"><img src=\"https://colab.research.google.com/assets/colab-badge.svg\" alt=\"Open In Colab\"/></a>"
      ]
    },
    {
      "cell_type": "markdown",
      "metadata": {
        "id": "Oph6pPYqrWDm"
      },
      "source": [
        "### Computing pi number using only the random function"
      ]
    },
    {
      "cell_type": "code",
      "metadata": {
        "id": "TNhnT9KZlSME"
      },
      "source": [
        "import numpy as np\n",
        "import matplotlib.pyplot as plt"
      ],
      "execution_count": null,
      "outputs": []
    },
    {
      "cell_type": "code",
      "metadata": {
        "id": "8ILxu99IksqM"
      },
      "source": [
        "x = np.random.random(100000)\n",
        "y = np.random.random(100000)"
      ],
      "execution_count": null,
      "outputs": []
    },
    {
      "cell_type": "code",
      "metadata": {
        "colab": {
          "base_uri": "https://localhost:8080/",
          "height": 342
        },
        "id": "0v1b-MQEk5Io",
        "outputId": "c5734b1a-e77f-4078-9566-5d183af9e78f"
      },
      "source": [
        "plt.figure(figsize=(5,5))\n",
        "plt.scatter(x,y,marker='.')\n",
        "plt.xlim(0,1.2)\n",
        "plt.ylim(0,1.2)"
      ],
      "execution_count": null,
      "outputs": [
        {
          "output_type": "execute_result",
          "data": {
            "text/plain": [
              "(0.0, 1.2)"
            ]
          },
          "metadata": {
            "tags": []
          },
          "execution_count": 99
        },
        {
          "output_type": "display_data",
          "data": {
            "image/png": "[encoded data removed]",
            "text/plain": [
              "<Figure size 360x360 with 1 Axes>"
            ]
          },
          "metadata": {
            "tags": [],
            "needs_background": "light"
          }
        }
      ]
    },
    {
      "cell_type": "code",
      "metadata": {
        "colab": {
          "base_uri": "https://localhost:8080/"
        },
        "id": "lmKzu-EmlD6O",
        "outputId": "83211657-32ee-49f4-c5d9-744071662b06"
      },
      "source": [
        "nc = 0\n",
        "for i in range(len(x)):\n",
        "  if (x[i]**2+y[i]**2)<=1:\n",
        "    nc += 1\n",
        "print('nc = ',nc)"
      ],
      "execution_count": null,
      "outputs": [
        {
          "output_type": "stream",
          "text": [
            "nc =  78522\n"
          ],
          "name": "stdout"
        }
      ]
    },
    {
      "cell_type": "code",
      "metadata": {
        "colab": {
          "base_uri": "https://localhost:8080/"
        },
        "id": "AuBFV4vDobQM",
        "outputId": "564a34b7-1cb3-42a6-c4f8-51246d3a01a8"
      },
      "source": [
        "nc*4/len(x)"
      ],
      "execution_count": null,
      "outputs": [
        {
          "output_type": "execute_result",
          "data": {
            "text/plain": [
              "3.14088"
            ]
          },
          "metadata": {
            "tags": []
          },
          "execution_count": 95
        }
      ]
    }
  ]
}